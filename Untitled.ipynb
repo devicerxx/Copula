{
 "cells": [
  {
   "cell_type": "markdown",
   "id": "a12d7bb0",
   "metadata": {},
   "source": [
    "问题：markdown 中<sf>显示"
   ]
  },
  {
   "cell_type": "markdown",
   "id": "31871f8d",
   "metadata": {},
   "source": [
    "# python 复习2023/1/14"
   ]
  },
  {
   "cell_type": "code",
   "execution_count": 6,
   "id": "9cdd255c",
   "metadata": {},
   "outputs": [
    {
     "data": {
      "text/plain": [
       "{1, 2, 3, 'dsf'}"
      ]
     },
     "execution_count": 6,
     "metadata": {},
     "output_type": "execute_result"
    }
   ],
   "source": [
    "{1,2,3,\"dsf\"}"
   ]
  },
  {
   "cell_type": "code",
   "execution_count": 7,
   "id": "6680e96d",
   "metadata": {},
   "outputs": [
    {
     "name": "stdout",
     "output_type": "stream",
     "text": [
      "{0: 1.299288852155115, 1: -1.5755055110774796, 2: 0.178624153409835, 3: 0.5757239314459021, 4: -0.8349871185933907, 5: 1.213183689044118, 6: 0.36056856161406065}\n"
     ]
    }
   ],
   "source": [
    "print(data)"
   ]
  },
  {
   "cell_type": "code",
   "execution_count": 14,
   "id": "fd2c9a16",
   "metadata": {},
   "outputs": [],
   "source": [
    "import numpy as np\n",
    "import pandas as pd"
   ]
  },
  {
   "cell_type": "markdown",
   "id": "5cc68a88",
   "metadata": {},
   "source": [
    "# < tab> 补齐 "
   ]
  },
  {
   "cell_type": "code",
   "execution_count": 10,
   "id": "196f9348",
   "metadata": {},
   "outputs": [],
   "source": [
    "data={i: np.random.randn( ) for i in range(7) } "
   ]
  },
  {
   "cell_type": "code",
   "execution_count": 11,
   "id": "14401f01",
   "metadata": {},
   "outputs": [
    {
     "data": {
      "text/plain": [
       "{0: -0.6087087550131073,\n",
       " 1: 0.9567133625260061,\n",
       " 2: 2.2283457577158168,\n",
       " 3: 0.3237582168389421,\n",
       " 4: 0.8487278632530398,\n",
       " 5: -0.19933009166657298,\n",
       " 6: 0.3498494132215233}"
      ]
     },
     "execution_count": 11,
     "metadata": {},
     "output_type": "execute_result"
    }
   ],
   "source": [
    "data? #内省"
   ]
  },
  {
   "cell_type": "code",
   "execution_count": 12,
   "id": "fbfe1307",
   "metadata": {},
   "outputs": [],
   "source": [
    "path='D:/备忘录/雀魂.txt'"
   ]
  },
  {
   "cell_type": "code",
   "execution_count": 19,
   "id": "d02d7448",
   "metadata": {},
   "outputs": [
    {
     "data": {
      "text/html": [
       "<div>\n",
       "<style scoped>\n",
       "    .dataframe tbody tr th:only-of-type {\n",
       "        vertical-align: middle;\n",
       "    }\n",
       "\n",
       "    .dataframe tbody tr th {\n",
       "        vertical-align: top;\n",
       "    }\n",
       "\n",
       "    .dataframe thead th {\n",
       "        text-align: right;\n",
       "    }\n",
       "</style>\n",
       "<table border=\"1\" class=\"dataframe\">\n",
       "  <thead>\n",
       "    <tr style=\"text-align: right;\">\n",
       "      <th></th>\n",
       "      <th>不冲不是好喵</th>\n",
       "    </tr>\n",
       "  </thead>\n",
       "  <tbody>\n",
       "    <tr>\n",
       "      <th>0</th>\n",
       "      <td>tokb@snapmail.cc</td>\n",
       "    </tr>\n",
       "    <tr>\n",
       "      <th>1</th>\n",
       "      <td>165632932</td>\n",
       "    </tr>\n",
       "  </tbody>\n",
       "</table>\n",
       "</div>"
      ],
      "text/plain": [
       "             不冲不是好喵\n",
       "0  tokb@snapmail.cc\n",
       "1         165632932"
      ]
     },
     "execution_count": 19,
     "metadata": {},
     "output_type": "execute_result"
    }
   ],
   "source": [
    "pd.read_csv(path)"
   ]
  },
  {
   "cell_type": "code",
   "execution_count": 20,
   "id": "7d56a454",
   "metadata": {},
   "outputs": [],
   "source": [
    "a=np.random.randn(100,100)"
   ]
  },
  {
   "cell_type": "code",
   "execution_count": 22,
   "id": "a896b664",
   "metadata": {},
   "outputs": [
    {
     "name": "stdout",
     "output_type": "stream",
     "text": [
      "18.9 µs ± 201 ns per loop (mean ± std. dev. of 7 runs, 100,000 loops each)\n"
     ]
    }
   ],
   "source": [
    "%timeit np.dot(a,a)"
   ]
  },
  {
   "cell_type": "code",
   "execution_count": 26,
   "id": "dcbe6f7d",
   "metadata": {},
   "outputs": [
    {
     "ename": "SyntaxError",
     "evalue": "invalid syntax (1368311033.py, line 1)",
     "output_type": "error",
     "traceback": [
      "\u001b[1;36m  Input \u001b[1;32mIn [26]\u001b[1;36m\u001b[0m\n\u001b[1;33m    np.dot(a,a)?\u001b[0m\n\u001b[1;37m               ^\u001b[0m\n\u001b[1;31mSyntaxError\u001b[0m\u001b[1;31m:\u001b[0m invalid syntax\n"
     ]
    }
   ],
   "source": [
    "np.dot(a,a)"
   ]
  },
  {
   "cell_type": "markdown",
   "id": "b8f5864b",
   "metadata": {},
   "source": [
    "# 魔术命令，用于简化常见任务"
   ]
  },
  {
   "cell_type": "code",
   "execution_count": 27,
   "id": "74f0ab15",
   "metadata": {},
   "outputs": [
    {
     "data": {
      "text/plain": [
       "'C:\\\\Users\\\\ASUS\\\\Desktop\\\\test'"
      ]
     },
     "execution_count": 27,
     "metadata": {},
     "output_type": "execute_result"
    }
   ],
   "source": [
    "%pwd "
   ]
  },
  {
   "cell_type": "code",
   "execution_count": 28,
   "id": "1ea42ffd",
   "metadata": {},
   "outputs": [
    {
     "data": {
      "text/plain": [
       "'C:\\\\Users\\\\ASUS\\\\Desktop\\\\test'"
      ]
     },
     "execution_count": 28,
     "metadata": {},
     "output_type": "execute_result"
    }
   ],
   "source": [
    "foo=%pwd\n",
    "foo"
   ]
  },
  {
   "cell_type": "code",
   "execution_count": 33,
   "id": "ecb9e14a",
   "metadata": {},
   "outputs": [
    {
     "name": "stdout",
     "output_type": "stream",
     "text": [
      "import numpy as np\n",
      "data = {i: np.}\n",
      "import numpy as np\n",
      "data = {i: np.random.randn() for i in range(7)}\n",
      "data\n",
      "{1,2,3}\n",
      "{1,2,3,dsf}\n",
      "{1,2,3,\"dsf\"}\n",
      "print(data)\n",
      "data?\n",
      "import numpy as np\n",
      "data={i: np.random.randn( ) for i in range(7) }\n",
      "data\n",
      "path='D:/备忘录/雀魂.txt'\n",
      "import numpy as np\n",
      "import panda as pd\n",
      "import numpy as np\n",
      "import pandas as pd\n",
      "pd.read_clipboard()\n",
      "pd.read_clipboard(path)\n",
      "pd.read_csv(path)\n",
      "pd.read_excel(path)\n",
      "pd.read_csv(path)\n",
      "a=np.random.randn(100,100)\n",
      "a\n",
      "%timeit np.dot(a,a)\n",
      "np.dot(a,a)\n",
      "np.dot(a,a)?\n",
      "np.dot(a,a)？\n",
      "np.dot(a,a)?\n",
      "%pwd\n",
      "foo=%pwd\n",
      "foo\n",
      "%quickref\n",
      "%notebook\n",
      "%notebook wf\n",
      "%notebook\n",
      "%hist\n"
     ]
    }
   ],
   "source": [
    "%hist"
   ]
  },
  {
   "cell_type": "code",
   "execution_count": 35,
   "id": "285101c8",
   "metadata": {},
   "outputs": [],
   "source": [
    "%xdel foo"
   ]
  },
  {
   "cell_type": "code",
   "execution_count": 40,
   "id": "eeb736e0",
   "metadata": {},
   "outputs": [],
   "source": [
    "%matplotlib inline \n",
    "#matplotlib集成（重要）"
   ]
  },
  {
   "cell_type": "code",
   "execution_count": null,
   "id": "db1823f5",
   "metadata": {},
   "outputs": [],
   "source": []
  }
 ],
 "metadata": {
  "kernelspec": {
   "display_name": "base",
   "language": "python",
   "name": "python3"
  },
  "language_info": {
   "codemirror_mode": {
    "name": "ipython",
    "version": 3
   },
   "file_extension": ".py",
   "mimetype": "text/x-python",
   "name": "python",
   "nbconvert_exporter": "python",
   "pygments_lexer": "ipython3",
   "version": "3.9.12"
  },
  "vscode": {
   "interpreter": {
    "hash": "5179d32cf6ec497baf3f8a3ef987cc77c5d2dc691fdde20a56316522f61a7323"
   }
  }
 },
 "nbformat": 4,
 "nbformat_minor": 5
}
